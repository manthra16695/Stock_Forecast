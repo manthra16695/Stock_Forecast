{
  "nbformat": 4,
  "nbformat_minor": 0,
  "metadata": {
    "colab": {
      "name": "AAPL_Prediction_LSTM.ipynb",
      "provenance": [],
      "collapsed_sections": []
    },
    "kernelspec": {
      "name": "python3",
      "display_name": "Python 3"
    }
  },
  "cells": [
    {
      "cell_type": "markdown",
      "metadata": {
        "id": "KMTrVintMxeJ",
        "colab_type": "text"
      },
      "source": [
        "**Data Collection using pandas reader**"
      ]
    },
    {
      "cell_type": "code",
      "metadata": {
        "id": "beequZXRCuYa",
        "colab_type": "code",
        "colab": {}
      },
      "source": [
        "##Data Collection for stocks using pandas_datareader library \n",
        "import pandas_datareader as pdr"
      ],
      "execution_count": 51,
      "outputs": []
    },
    {
      "cell_type": "code",
      "metadata": {
        "id": "OPex1EgxEkzk",
        "colab_type": "code",
        "colab": {}
      },
      "source": [
        "##Create an account at https://api.tiingo.com/ to get stock data by hitting tingo API\n",
        "##Storing the stock history data of Apple in a dataframe df by calling get_data_tiingo method\n",
        "key='xxxxxxxxxxxxxxxxxxxxxxxxxxxxxxxx'\n",
        "df=pdr.get_data_tiingo('AAPL',api_key=key)"
      ],
      "execution_count": 52,
      "outputs": []
    },
    {
      "cell_type": "code",
      "metadata": {
        "id": "cVLoBJTmFanB",
        "colab_type": "code",
        "colab": {}
      },
      "source": [
        "df.to_csv('AAPL.csv')"
      ],
      "execution_count": 53,
      "outputs": []
    },
    {
      "cell_type": "code",
      "metadata": {
        "id": "Bh1yhd0gFvGM",
        "colab_type": "code",
        "colab": {}
      },
      "source": [
        "import pandas as pd\n",
        "df=pd.read_csv('AAPL.csv')"
      ],
      "execution_count": 54,
      "outputs": []
    },
    {
      "cell_type": "code",
      "metadata": {
        "id": "CVMCgTcBGlRp",
        "colab_type": "code",
        "colab": {}
      },
      "source": [
        "##Subsetting the data, only using closing values\n",
        "df1=df.reset_index()['close']"
      ],
      "execution_count": 55,
      "outputs": []
    },
    {
      "cell_type": "code",
      "metadata": {
        "id": "V8GaP7PNIq2s",
        "colab_type": "code",
        "colab": {
          "base_uri": "https://localhost:8080/",
          "height": 282
        },
        "outputId": "6e2af538-90fc-4798-ec4a-d6bd47e20b3c"
      },
      "source": [
        "##Plotting the closing values of the Stock\n",
        "import matplotlib.pyplot as plt\n",
        "plt.plot(df1)"
      ],
      "execution_count": 56,
      "outputs": [
        {
          "output_type": "execute_result",
          "data": {
            "text/plain": [
              "[<matplotlib.lines.Line2D at 0x7fbadbb65a58>]"
            ]
          },
          "metadata": {
            "tags": []
          },
          "execution_count": 56
        },
        {
          "output_type": "display_data",
          "data": {
            "image/png": "[encoded data removed]",
            "text/plain": [
              "<Figure size 432x288 with 1 Axes>"
            ]
          },
          "metadata": {
            "tags": [],
            "needs_background": "light"
          }
        }
      ]
    },
    {
      "cell_type": "code",
      "metadata": {
        "id": "Mo7_3p25Iq6C",
        "colab_type": "code",
        "colab": {}
      },
      "source": [
        "##Scaling the data in the range of 0 to 1 before passing to the LSTM Model, Since LSTM is sensitive to scale\n",
        "##We apply Min Max Scaler\n",
        "import numpy as np\n",
        "from sklearn.preprocessing import MinMaxScaler\n",
        "scaler=MinMaxScaler(feature_range=(0,1))\n",
        "df1=scaler.fit_transform(np.array(df1).reshape(-1,1))"
      ],
      "execution_count": 57,
      "outputs": []
    },
    {
      "cell_type": "code",
      "metadata": {
        "id": "jBN8yJKIPF5z",
        "colab_type": "code",
        "colab": {
          "base_uri": "https://localhost:8080/",
          "height": 136
        },
        "outputId": "d5952a0c-2036-4f6d-fc5f-987d0d532d39"
      },
      "source": [
        "##Now the closing values are converted in the range between 0 and 1\n",
        "print(df1)"
      ],
      "execution_count": 58,
      "outputs": [
        {
          "output_type": "stream",
          "text": [
            "[[0.07487302]\n",
            " [0.07406633]\n",
            " [0.07523155]\n",
            " ...\n",
            " [0.86590977]\n",
            " [0.87965342]\n",
            " [1.        ]]\n"
          ],
          "name": "stdout"
        }
      ]
    },
    {
      "cell_type": "markdown",
      "metadata": {
        "id": "qIm7uOVLP_pc",
        "colab_type": "text"
      },
      "source": [
        "**Data Partition (Train - Test Split)**\n"
      ]
    },
    {
      "cell_type": "markdown",
      "metadata": {
        "id": "2F5Z5AhaQh5p",
        "colab_type": "text"
      },
      "source": [
        "*Time Series Intuition:*\n",
        "Time series data points are dependent on previous day's values.\n",
        "Hence Splitting the data to train and test should be splitted in such a way that the order is preserved based on date.\n",
        "\n",
        "ex:  Date  - Closing Price\n",
        "\n",
        "1.   01-jun - 332,\n",
        "2.   02-jun - 331,\n",
        "3.   03-jun - 335,\n",
        "4.   04-jun - 334,\n",
        "5.   05-jun - 333\n",
        "\n",
        "\n",
        "while splitting the above data we could not use random split we can divide in a way that order is maintained\n",
        "\n",
        "Train- \n",
        "*   01-jun - 330\n",
        "*   02-jun - 332\n",
        "*   03-jun - 331\n",
        "*   04-jun - 335\n",
        "\n",
        "\n",
        "Test -\n",
        "  \n",
        "\n",
        "*   05-jun - 334,\n",
        "*   06-jun - 333\n",
        "\n"
      ]
    },
    {
      "cell_type": "code",
      "metadata": {
        "id": "HL5G_nwlPV3O",
        "colab_type": "code",
        "colab": {}
      },
      "source": [
        "##Splitting the data into train and test split\n",
        "##First 70% goes to train data, remaining 30% test data\n",
        "train_size=int(len(df1)*0.70)\n",
        "test_size=len(df1)-train_size\n",
        "train_data,test_data=df1[0:train_size,:],df1[train_size:len(df1),:]"
      ],
      "execution_count": 59,
      "outputs": []
    },
    {
      "cell_type": "markdown",
      "metadata": {
        "id": "bTMi0N5XZ9xt",
        "colab_type": "text"
      },
      "source": [
        "**Time Steps Intuition:**\n",
        "*Consider Train Data:* 330, 332, 331, 335\n",
        "*Consider Test Data :* 334, 333, 334, 336\n",
        "\n",
        "When we set Time_Steps =2\n",
        "Our model takes into consideration two values before the current timestamp for predicting new stock value. It works like an iteration one step forward but consider 2 consecutive values since time_Step=2\n",
        "\n",
        "***Note: Usually choosing higher time_step gives better prediction***\n",
        "\n",
        "    \n",
        "\n",
        "*   x1     x2     y_train (Output)  \n",
        "*   330    332     331\n",
        "*   332    331     335\n",
        "*   331    335     333\n",
        "\n",
        "Similarly for Test data\n",
        "*   x1     x2     y_test (Output)  \n",
        "*   334    333     334\n",
        "*   333    334     336\n",
        "\n",
        "\n",
        "\n",
        "\n"
      ]
    },
    {
      "cell_type": "code",
      "metadata": {
        "id": "7uchRerkU5zu",
        "colab_type": "code",
        "colab": {}
      },
      "source": [
        "##Creating a function to implement the above logic through a for loop iteration\n",
        "import numpy as np\n",
        "\n",
        "def dataset(data,time_step):\n",
        "\n",
        "  xdata,ydata=[],[]\n",
        "  for i in range(0,len(data)-time_step-1):\n",
        "  \n",
        "    a=data[i:(i+time_step)]\n",
        "    b=data[i+time_step]\n",
        "    xdata.append(a)\n",
        "    ydata.append(b)\n",
        "\n",
        "  return np.array(xdata),np.array(ydata)\n",
        "  "
      ],
      "execution_count": 60,
      "outputs": []
    },
    {
      "cell_type": "code",
      "metadata": {
        "id": "8O7OF6PjhuzH",
        "colab_type": "code",
        "colab": {
          "base_uri": "https://localhost:8080/",
          "height": 51
        },
        "outputId": "a1332eb1-ba93-48fa-fc9e-c0e58818bf7d"
      },
      "source": [
        "##Choosing a bigger time_step value usually provides a stable and better prediction\n",
        "time_step=100\n",
        "X_train,Y_train=dataset(train_data,time_step)\n",
        "X_test,Y_test=dataset(test_data,time_step)\n",
        "print((X_train.shape)) ##X_train has 779 records with time_step=100 features in it \n",
        "print((Y_train.shape)) ##Y_train has just the 779 target records"
      ],
      "execution_count": 61,
      "outputs": [
        {
          "output_type": "stream",
          "text": [
            "(778, 100, 1)\n",
            "(778, 1)\n"
          ],
          "name": "stdout"
        }
      ]
    },
    {
      "cell_type": "code",
      "metadata": {
        "id": "F9Rhu3xNj_vO",
        "colab_type": "code",
        "colab": {}
      },
      "source": [
        "##Optional\n",
        "##Make sure to Reshape the training data and testing data into a 3 dimensional if the data is in 2 dimensional form susceptible for LSTM to process\n",
        "X_train=X_train.reshape(X_train.shape[0],X_train.shape[1],1)\n",
        "X_test=X_test.reshape(X_test.shape[0],X_test.shape[1],1)"
      ],
      "execution_count": 62,
      "outputs": []
    },
    {
      "cell_type": "markdown",
      "metadata": {
        "id": "uAgjzXP5Mhac",
        "colab_type": "text"
      },
      "source": [
        "**Create a Stacked LSTM Model**"
      ]
    },
    {
      "cell_type": "code",
      "metadata": {
        "id": "Cntf6orkn8OW",
        "colab_type": "code",
        "colab": {}
      },
      "source": [
        "## Importing the required libraries to Create the Stacked LSTM Model\n",
        "from tensorflow.keras.models import Sequential\n",
        "from tensorflow.keras.layers import Dense\n",
        "from tensorflow.keras.layers import LSTM\n",
        "model=Sequential()\n",
        "model.add(LSTM(50,return_sequences=True,input_shape=(100,1))) ## Choosing 50 hidden layers, input shape as 100,1 as like our input dimension in previous step\n",
        "model.add(LSTM(50,return_sequences=True)) ##Since this is a stacked LSTM we add one LSTM after the other\n",
        "model.add(LSTM(50))\n",
        "model.add(Dense(1)) ##Final Output Layer\n",
        "model.compile(loss='mean_squared_error',optimizer='adam')"
      ],
      "execution_count": 63,
      "outputs": []
    },
    {
      "cell_type": "code",
      "metadata": {
        "id": "QIqJnshqpod9",
        "colab_type": "code",
        "colab": {
          "base_uri": "https://localhost:8080/",
          "height": 289
        },
        "outputId": "527988a4-f467-4d90-a377-c7eae44e2b9c"
      },
      "source": [
        "model.summary()"
      ],
      "execution_count": 64,
      "outputs": [
        {
          "output_type": "stream",
          "text": [
            "Model: \"sequential_1\"\n",
            "_________________________________________________________________\n",
            "Layer (type)                 Output Shape              Param #   \n",
            "=================================================================\n",
            "lstm_3 (LSTM)                (None, 100, 50)           10400     \n",
            "_________________________________________________________________\n",
            "lstm_4 (LSTM)                (None, 100, 50)           20200     \n",
            "_________________________________________________________________\n",
            "lstm_5 (LSTM)                (None, 50)                20200     \n",
            "_________________________________________________________________\n",
            "dense_1 (Dense)              (None, 1)                 51        \n",
            "=================================================================\n",
            "Total params: 50,851\n",
            "Trainable params: 50,851\n",
            "Non-trainable params: 0\n",
            "_________________________________________________________________\n"
          ],
          "name": "stdout"
        }
      ]
    },
    {
      "cell_type": "code",
      "metadata": {
        "id": "x3btucE7qFZn",
        "colab_type": "code",
        "colab": {
          "base_uri": "https://localhost:8080/",
          "height": 85
        },
        "outputId": "65eda872-2a1e-4664-b174-d959247b9ad7"
      },
      "source": [
        "print(X_train.shape)\n",
        "print(Y_train.shape)\n",
        "print(X_test.shape)\n",
        "print(Y_test.shape)"
      ],
      "execution_count": 65,
      "outputs": [
        {
          "output_type": "stream",
          "text": [
            "(778, 100, 1)\n",
            "(778, 1)\n",
            "(277, 100, 1)\n",
            "(277, 1)\n"
          ],
          "name": "stdout"
        }
      ]
    },
    {
      "cell_type": "code",
      "metadata": {
        "id": "HPFWm7J0pu44",
        "colab_type": "code",
        "colab": {
          "base_uri": "https://localhost:8080/",
          "height": 1000
        },
        "outputId": "651b54b6-2c35-4d6d-9910-f59279da0e24"
      },
      "source": [
        "##Fitting our LSTM model over the prepared training data\n",
        "model.fit(X_train,Y_train,validation_data=(X_test,Y_test),epochs=100,batch_size=70,verbose=1)\n",
        "\n",
        "##Decrease in Loss in every iteration is a good sign that our model reduces errors in every iteration"
      ],
      "execution_count": 66,
      "outputs": [
        {
          "output_type": "stream",
          "text": [
            "Epoch 1/100\n",
            "12/12 [==============================] - 3s 247ms/step - loss: 0.0117 - val_loss: 0.0631\n",
            "Epoch 2/100\n",
            "12/12 [==============================] - 2s 191ms/step - loss: 0.0026 - val_loss: 0.0038\n",
            "Epoch 3/100\n",
            "12/12 [==============================] - 2s 192ms/step - loss: 9.2091e-04 - val_loss: 0.0027\n",
            "Epoch 4/100\n",
            "12/12 [==============================] - 2s 192ms/step - loss: 5.6712e-04 - val_loss: 0.0054\n",
            "Epoch 5/100\n",
            "12/12 [==============================] - 2s 191ms/step - loss: 5.3455e-04 - val_loss: 0.0059\n",
            "Epoch 6/100\n",
            "12/12 [==============================] - 2s 189ms/step - loss: 4.8849e-04 - val_loss: 0.0049\n",
            "Epoch 7/100\n",
            "12/12 [==============================] - 2s 190ms/step - loss: 4.8389e-04 - val_loss: 0.0063\n",
            "Epoch 8/100\n",
            "12/12 [==============================] - 2s 190ms/step - loss: 4.8255e-04 - val_loss: 0.0064\n",
            "Epoch 9/100\n",
            "12/12 [==============================] - 2s 193ms/step - loss: 4.5493e-04 - val_loss: 0.0059\n",
            "Epoch 10/100\n",
            "12/12 [==============================] - 2s 191ms/step - loss: 4.2866e-04 - val_loss: 0.0050\n",
            "Epoch 11/100\n",
            "12/12 [==============================] - 2s 189ms/step - loss: 4.0915e-04 - val_loss: 0.0035\n",
            "Epoch 12/100\n",
            "12/12 [==============================] - 2s 191ms/step - loss: 4.2736e-04 - val_loss: 0.0029\n",
            "Epoch 13/100\n",
            "12/12 [==============================] - 2s 192ms/step - loss: 3.9539e-04 - val_loss: 0.0034\n",
            "Epoch 14/100\n",
            "12/12 [==============================] - 2s 192ms/step - loss: 4.0580e-04 - val_loss: 0.0061\n",
            "Epoch 15/100\n",
            "12/12 [==============================] - 2s 190ms/step - loss: 3.8957e-04 - val_loss: 0.0080\n",
            "Epoch 16/100\n",
            "12/12 [==============================] - 2s 193ms/step - loss: 3.8008e-04 - val_loss: 0.0065\n",
            "Epoch 17/100\n",
            "12/12 [==============================] - 2s 191ms/step - loss: 3.6427e-04 - val_loss: 0.0033\n",
            "Epoch 18/100\n",
            "12/12 [==============================] - 2s 194ms/step - loss: 3.4111e-04 - val_loss: 0.0028\n",
            "Epoch 19/100\n",
            "12/12 [==============================] - 2s 191ms/step - loss: 3.2141e-04 - val_loss: 0.0055\n",
            "Epoch 20/100\n",
            "12/12 [==============================] - 2s 190ms/step - loss: 2.8157e-04 - val_loss: 0.0033\n",
            "Epoch 21/100\n",
            "12/12 [==============================] - 2s 192ms/step - loss: 2.7498e-04 - val_loss: 0.0070\n",
            "Epoch 22/100\n",
            "12/12 [==============================] - 2s 192ms/step - loss: 2.9431e-04 - val_loss: 0.0019\n",
            "Epoch 23/100\n",
            "12/12 [==============================] - 2s 189ms/step - loss: 2.8235e-04 - val_loss: 0.0085\n",
            "Epoch 24/100\n",
            "12/12 [==============================] - 2s 193ms/step - loss: 3.1402e-04 - val_loss: 0.0016\n",
            "Epoch 25/100\n",
            "12/12 [==============================] - 2s 192ms/step - loss: 3.1976e-04 - val_loss: 0.0063\n",
            "Epoch 26/100\n",
            "12/12 [==============================] - 2s 191ms/step - loss: 2.6596e-04 - val_loss: 0.0036\n",
            "Epoch 27/100\n",
            "12/12 [==============================] - 2s 191ms/step - loss: 2.5409e-04 - val_loss: 0.0019\n",
            "Epoch 28/100\n",
            "12/12 [==============================] - 2s 192ms/step - loss: 2.6313e-04 - val_loss: 0.0024\n",
            "Epoch 29/100\n",
            "12/12 [==============================] - 2s 193ms/step - loss: 2.6445e-04 - val_loss: 0.0051\n",
            "Epoch 30/100\n",
            "12/12 [==============================] - 2s 192ms/step - loss: 2.9351e-04 - val_loss: 0.0034\n",
            "Epoch 31/100\n",
            "12/12 [==============================] - 2s 189ms/step - loss: 2.5424e-04 - val_loss: 0.0044\n",
            "Epoch 32/100\n",
            "12/12 [==============================] - 2s 192ms/step - loss: 2.4488e-04 - val_loss: 0.0023\n",
            "Epoch 33/100\n",
            "12/12 [==============================] - 2s 191ms/step - loss: 2.3474e-04 - val_loss: 0.0031\n",
            "Epoch 34/100\n",
            "12/12 [==============================] - 2s 191ms/step - loss: 2.3223e-04 - val_loss: 0.0015\n",
            "Epoch 35/100\n",
            "12/12 [==============================] - 2s 189ms/step - loss: 2.3947e-04 - val_loss: 0.0024\n",
            "Epoch 36/100\n",
            "12/12 [==============================] - 2s 192ms/step - loss: 2.3345e-04 - val_loss: 0.0023\n",
            "Epoch 37/100\n",
            "12/12 [==============================] - 2s 190ms/step - loss: 2.5379e-04 - val_loss: 0.0041\n",
            "Epoch 38/100\n",
            "12/12 [==============================] - 2s 189ms/step - loss: 2.7167e-04 - val_loss: 0.0018\n",
            "Epoch 39/100\n",
            "12/12 [==============================] - 2s 190ms/step - loss: 2.4388e-04 - val_loss: 0.0038\n",
            "Epoch 40/100\n",
            "12/12 [==============================] - 2s 191ms/step - loss: 2.2696e-04 - val_loss: 0.0048\n",
            "Epoch 41/100\n",
            "12/12 [==============================] - 2s 190ms/step - loss: 2.2287e-04 - val_loss: 0.0027\n",
            "Epoch 42/100\n",
            "12/12 [==============================] - 2s 189ms/step - loss: 2.2417e-04 - val_loss: 0.0035\n",
            "Epoch 43/100\n",
            "12/12 [==============================] - 2s 187ms/step - loss: 2.1266e-04 - val_loss: 0.0028\n",
            "Epoch 44/100\n",
            "12/12 [==============================] - 2s 189ms/step - loss: 2.1304e-04 - val_loss: 0.0044\n",
            "Epoch 45/100\n",
            "12/12 [==============================] - 2s 188ms/step - loss: 2.6155e-04 - val_loss: 9.5978e-04\n",
            "Epoch 46/100\n",
            "12/12 [==============================] - 2s 187ms/step - loss: 2.4814e-04 - val_loss: 0.0019\n",
            "Epoch 47/100\n",
            "12/12 [==============================] - 2s 192ms/step - loss: 2.3681e-04 - val_loss: 0.0027\n",
            "Epoch 48/100\n",
            "12/12 [==============================] - 2s 187ms/step - loss: 2.0724e-04 - val_loss: 0.0020\n",
            "Epoch 49/100\n",
            "12/12 [==============================] - 2s 187ms/step - loss: 2.2915e-04 - val_loss: 0.0030\n",
            "Epoch 50/100\n",
            "12/12 [==============================] - 2s 188ms/step - loss: 1.9782e-04 - val_loss: 0.0016\n",
            "Epoch 51/100\n",
            "12/12 [==============================] - 2s 186ms/step - loss: 2.0441e-04 - val_loss: 0.0018\n",
            "Epoch 52/100\n",
            "12/12 [==============================] - 2s 188ms/step - loss: 1.9817e-04 - val_loss: 0.0041\n",
            "Epoch 53/100\n",
            "12/12 [==============================] - 2s 188ms/step - loss: 2.2142e-04 - val_loss: 0.0035\n",
            "Epoch 54/100\n",
            "12/12 [==============================] - 2s 187ms/step - loss: 1.9918e-04 - val_loss: 9.9292e-04\n",
            "Epoch 55/100\n",
            "12/12 [==============================] - 2s 193ms/step - loss: 2.1607e-04 - val_loss: 0.0030\n",
            "Epoch 56/100\n",
            "12/12 [==============================] - 2s 196ms/step - loss: 1.9113e-04 - val_loss: 8.8136e-04\n",
            "Epoch 57/100\n",
            "12/12 [==============================] - 2s 188ms/step - loss: 2.5433e-04 - val_loss: 0.0063\n",
            "Epoch 58/100\n",
            "12/12 [==============================] - 2s 188ms/step - loss: 2.5207e-04 - val_loss: 0.0036\n",
            "Epoch 59/100\n",
            "12/12 [==============================] - 2s 186ms/step - loss: 2.0097e-04 - val_loss: 0.0016\n",
            "Epoch 60/100\n",
            "12/12 [==============================] - 2s 189ms/step - loss: 1.8325e-04 - val_loss: 0.0025\n",
            "Epoch 61/100\n",
            "12/12 [==============================] - 2s 185ms/step - loss: 1.8410e-04 - val_loss: 0.0019\n",
            "Epoch 62/100\n",
            "12/12 [==============================] - 2s 190ms/step - loss: 1.7803e-04 - val_loss: 0.0043\n",
            "Epoch 63/100\n",
            "12/12 [==============================] - 2s 188ms/step - loss: 2.8217e-04 - val_loss: 7.9016e-04\n",
            "Epoch 64/100\n",
            "12/12 [==============================] - 2s 187ms/step - loss: 2.1463e-04 - val_loss: 0.0021\n",
            "Epoch 65/100\n",
            "12/12 [==============================] - 2s 187ms/step - loss: 1.7828e-04 - val_loss: 0.0012\n",
            "Epoch 66/100\n",
            "12/12 [==============================] - 2s 187ms/step - loss: 1.7490e-04 - val_loss: 0.0016\n",
            "Epoch 67/100\n",
            "12/12 [==============================] - 2s 188ms/step - loss: 1.7673e-04 - val_loss: 0.0018\n",
            "Epoch 68/100\n",
            "12/12 [==============================] - 2s 185ms/step - loss: 1.7725e-04 - val_loss: 0.0034\n",
            "Epoch 69/100\n",
            "12/12 [==============================] - 2s 187ms/step - loss: 1.7117e-04 - val_loss: 0.0020\n",
            "Epoch 70/100\n",
            "12/12 [==============================] - 2s 188ms/step - loss: 1.5966e-04 - val_loss: 0.0020\n",
            "Epoch 71/100\n",
            "12/12 [==============================] - 2s 192ms/step - loss: 1.7156e-04 - val_loss: 0.0021\n",
            "Epoch 72/100\n",
            "12/12 [==============================] - 3s 220ms/step - loss: 1.6044e-04 - val_loss: 0.0015\n",
            "Epoch 73/100\n",
            "12/12 [==============================] - 2s 192ms/step - loss: 1.6647e-04 - val_loss: 0.0025\n",
            "Epoch 74/100\n",
            "12/12 [==============================] - 2s 195ms/step - loss: 1.5885e-04 - val_loss: 0.0036\n",
            "Epoch 75/100\n",
            "12/12 [==============================] - 2s 191ms/step - loss: 1.9366e-04 - val_loss: 0.0015\n",
            "Epoch 76/100\n",
            "12/12 [==============================] - 2s 190ms/step - loss: 1.8232e-04 - val_loss: 0.0032\n",
            "Epoch 77/100\n",
            "12/12 [==============================] - 2s 197ms/step - loss: 1.6747e-04 - val_loss: 0.0021\n",
            "Epoch 78/100\n",
            "12/12 [==============================] - 2s 193ms/step - loss: 1.6575e-04 - val_loss: 0.0032\n",
            "Epoch 79/100\n",
            "12/12 [==============================] - 2s 193ms/step - loss: 1.4655e-04 - val_loss: 0.0048\n",
            "Epoch 80/100\n",
            "12/12 [==============================] - 2s 192ms/step - loss: 1.7330e-04 - val_loss: 0.0019\n",
            "Epoch 81/100\n",
            "12/12 [==============================] - 2s 193ms/step - loss: 1.5449e-04 - val_loss: 0.0014\n",
            "Epoch 82/100\n",
            "12/12 [==============================] - 2s 194ms/step - loss: 1.5120e-04 - val_loss: 0.0026\n",
            "Epoch 83/100\n",
            "12/12 [==============================] - 2s 192ms/step - loss: 1.4317e-04 - val_loss: 0.0042\n",
            "Epoch 84/100\n",
            "12/12 [==============================] - 2s 191ms/step - loss: 1.4890e-04 - val_loss: 0.0030\n",
            "Epoch 85/100\n",
            "12/12 [==============================] - 2s 192ms/step - loss: 1.3980e-04 - val_loss: 0.0054\n",
            "Epoch 86/100\n",
            "12/12 [==============================] - 2s 195ms/step - loss: 1.6049e-04 - val_loss: 0.0027\n",
            "Epoch 87/100\n",
            "12/12 [==============================] - 2s 195ms/step - loss: 1.4626e-04 - val_loss: 0.0034\n",
            "Epoch 88/100\n",
            "12/12 [==============================] - 2s 194ms/step - loss: 1.4587e-04 - val_loss: 0.0026\n",
            "Epoch 89/100\n",
            "12/12 [==============================] - 2s 193ms/step - loss: 1.3246e-04 - val_loss: 0.0019\n",
            "Epoch 90/100\n",
            "12/12 [==============================] - 2s 192ms/step - loss: 1.5136e-04 - val_loss: 0.0037\n",
            "Epoch 91/100\n",
            "12/12 [==============================] - 2s 191ms/step - loss: 1.3855e-04 - val_loss: 0.0037\n",
            "Epoch 92/100\n",
            "12/12 [==============================] - 2s 193ms/step - loss: 1.5315e-04 - val_loss: 0.0014\n",
            "Epoch 93/100\n",
            "12/12 [==============================] - 2s 194ms/step - loss: 1.6564e-04 - val_loss: 0.0043\n",
            "Epoch 94/100\n",
            "12/12 [==============================] - 2s 192ms/step - loss: 1.5307e-04 - val_loss: 0.0014\n",
            "Epoch 95/100\n",
            "12/12 [==============================] - 2s 193ms/step - loss: 1.3966e-04 - val_loss: 0.0023\n",
            "Epoch 96/100\n",
            "12/12 [==============================] - 2s 192ms/step - loss: 1.3412e-04 - val_loss: 0.0035\n",
            "Epoch 97/100\n",
            "12/12 [==============================] - 2s 193ms/step - loss: 1.5047e-04 - val_loss: 0.0017\n",
            "Epoch 98/100\n",
            "12/12 [==============================] - 2s 193ms/step - loss: 1.4931e-04 - val_loss: 0.0074\n",
            "Epoch 99/100\n",
            "12/12 [==============================] - 2s 193ms/step - loss: 1.8559e-04 - val_loss: 0.0012\n",
            "Epoch 100/100\n",
            "12/12 [==============================] - 2s 193ms/step - loss: 1.4004e-04 - val_loss: 0.0042\n"
          ],
          "name": "stdout"
        },
        {
          "output_type": "execute_result",
          "data": {
            "text/plain": [
              "<tensorflow.python.keras.callbacks.History at 0x7fbadb89c400>"
            ]
          },
          "metadata": {
            "tags": []
          },
          "execution_count": 66
        }
      ]
    },
    {
      "cell_type": "markdown",
      "metadata": {
        "id": "aLX6DTrgNO2a",
        "colab_type": "text"
      },
      "source": [
        "**Prediction using Trained LSTM Model**"
      ]
    },
    {
      "cell_type": "code",
      "metadata": {
        "id": "VRMEXgGwMKBC",
        "colab_type": "code",
        "colab": {}
      },
      "source": [
        "##Predict using the model in both test and train data\n",
        "train_predict=model.predict(X_train)\n",
        "test_predict=model.predict(X_test)"
      ],
      "execution_count": 67,
      "outputs": []
    },
    {
      "cell_type": "code",
      "metadata": {
        "id": "wFSu2RTtQhNE",
        "colab_type": "code",
        "colab": {}
      },
      "source": [
        "##Converting the scaled values back to original values for comparison and metrics\n",
        "train_predict=scaler.inverse_transform(train_predict)\n",
        "test_predict=scaler.inverse_transform(test_predict)"
      ],
      "execution_count": 68,
      "outputs": []
    },
    {
      "cell_type": "code",
      "metadata": {
        "id": "QG2ILUB2Qqnt",
        "colab_type": "code",
        "colab": {
          "base_uri": "https://localhost:8080/",
          "height": 34
        },
        "outputId": "3194a228-da07-4bfa-b35e-9186b6c3af2b"
      },
      "source": [
        "##RMSE value for comparing predicted values and actual Y_train values\n",
        "##We use math.sqrt to calculate Root value(RMSE) from the Mean squared error\n",
        "##Train RMSE\n",
        "import math\n",
        "from sklearn.metrics import mean_squared_error\n",
        "math.sqrt(mean_squared_error(train_predict,Y_train))\n"
      ],
      "execution_count": 69,
      "outputs": [
        {
          "output_type": "execute_result",
          "data": {
            "text/plain": [
              "152.2288342959666"
            ]
          },
          "metadata": {
            "tags": []
          },
          "execution_count": 69
        }
      ]
    },
    {
      "cell_type": "code",
      "metadata": {
        "id": "YLq9Fg_FRl9O",
        "colab_type": "code",
        "colab": {
          "base_uri": "https://localhost:8080/",
          "height": 34
        },
        "outputId": "0931b97b-93a6-4396-9ebe-9e5b454cef5e"
      },
      "source": [
        "##RMSE value for comparing predicted values and actual Y_test values\n",
        "##Test RMSE\n",
        "math.sqrt(mean_squared_error(Y_test,test_predict))"
      ],
      "execution_count": 70,
      "outputs": [
        {
          "output_type": "execute_result",
          "data": {
            "text/plain": [
              "261.1220585526158"
            ]
          },
          "metadata": {
            "tags": []
          },
          "execution_count": 70
        }
      ]
    },
    {
      "cell_type": "code",
      "metadata": {
        "id": "gG-cos0gV3rf",
        "colab_type": "code",
        "colab": {
          "base_uri": "https://localhost:8080/",
          "height": 265
        },
        "outputId": "bcfbb247-da34-4346-9a6b-55c4c66e26d3"
      },
      "source": [
        "### Plotting \n",
        "#shift train predictions for plotting\n",
        "look_back=100 ##Since our time_Step is 100 we could not predict from 0th row hence plotting the train predict from 100\n",
        "trainPredictPlot = np.empty_like(df1) ##Returns an array of same shape and size of input array which we pass into this function\n",
        "trainPredictPlot[:, :] = np.nan        ##Replace all the values with nan\n",
        "trainPredictPlot[look_back:len(train_predict)+look_back, :] = train_predict ##Replacing the NA values with predicted values \n",
        "##for train from 100th row till final predicted values\n",
        "# shift test predictions for plotting\n",
        "testPredictPlot = np.empty_like(df1)\n",
        "testPredictPlot[:, :] = np.nan\n",
        "testPredictPlot[len(train_predict)+(look_back*2)+1:len(df1)-1, :] = test_predict ##Replacing the NA values with predicted values for test\n",
        "# plot baseline and predictions\n",
        "plt.plot(scaler.inverse_transform(df1),label=\"Original Data\")\n",
        "\n",
        "plt.plot(trainPredictPlot,\"-r\",label=\"Predicted Train\")\n",
        "plt.plot(testPredictPlot,'-g',label=\"Predicted Test\")\n",
        "plt.legend(framealpha=1, frameon=True);\n",
        "\n",
        "##The blue plot shows the actual stock data\n",
        "##Green plot shows the test predicted values\n",
        "##Orange plot shows the train predicted values"
      ],
      "execution_count": 71,
      "outputs": [
        {
          "output_type": "display_data",
          "data": {
            "image/png": "[encoded data removed]",
            "text/plain": [
              "<Figure size 432x288 with 1 Axes>"
            ]
          },
          "metadata": {
            "tags": [],
            "needs_background": "light"
          }
        }
      ]
    },
    {
      "cell_type": "markdown",
      "metadata": {
        "id": "mJCrPJlGg2Q6",
        "colab_type": "text"
      },
      "source": [
        "**Forecast the Stock for future 7 Days**"
      ]
    },
    {
      "cell_type": "code",
      "metadata": {
        "id": "gxDHRDH3iVCH",
        "colab_type": "code",
        "colab": {
          "base_uri": "https://localhost:8080/",
          "height": 34
        },
        "outputId": "3bc88f2a-49e2-41e6-8530-c00daf246f65"
      },
      "source": [
        "len(test_data)"
      ],
      "execution_count": 72,
      "outputs": [
        {
          "output_type": "execute_result",
          "data": {
            "text/plain": [
              "378"
            ]
          },
          "metadata": {
            "tags": []
          },
          "execution_count": 72
        }
      ]
    },
    {
      "cell_type": "code",
      "metadata": {
        "id": "4pEDG2TaXUBm",
        "colab_type": "code",
        "colab": {
          "base_uri": "https://localhost:8080/",
          "height": 1000
        },
        "outputId": "d6a79d0a-4f3c-4bb2-8933-91e254810acb"
      },
      "source": [
        "predict_input=test_data[278:].reshape(1,-1) ##Reshape (1,-1) means the target variable will now have 1 row and unknown number of columns  \n",
        "##hence it takes automatically the number of available columns\n",
        "predict_input.shape\n",
        "forecast_input=list(predict_input)##Making the input as a list\n",
        "forecast_input=forecast_input[0].tolist()\n",
        "forecast_input\n"
      ],
      "execution_count": 73,
      "outputs": [
        {
          "output_type": "execute_result",
          "data": {
            "text/plain": [
              "[0.5530026889752016,\n",
              " 0.47173588288019114,\n",
              " 0.5605915745443681,\n",
              " 0.4537496265312219,\n",
              " 0.4855691664176875,\n",
              " 0.4670749925306244,\n",
              " 0.46142814460711085,\n",
              " 0.4149985061248879,\n",
              " 0.4004481625336122,\n",
              " 0.4677024200776814,\n",
              " 0.463639079772931,\n",
              " 0.5022408126680609,\n",
              " 0.4702718852703914,\n",
              " 0.49139527935464594,\n",
              " 0.4898416492381236,\n",
              " 0.4498655512399163,\n",
              " 0.461876307140723,\n",
              " 0.45135942635195686,\n",
              " 0.5142814460711085,\n",
              " 0.5051986853899013,\n",
              " 0.5250373468778009,\n",
              " 0.5307738273080369,\n",
              " 0.5464893934867046,\n",
              " 0.5877203465790259,\n",
              " 0.579892440991933,\n",
              " 0.5866447564983566,\n",
              " 0.5750224081266806,\n",
              " 0.5574843143113235,\n",
              " 0.5319091723931879,\n",
              " 0.5550044816253361,\n",
              " 0.5518075888855689,\n",
              " 0.5755303256647744,\n",
              " 0.5761278757095907,\n",
              " 0.5624141021810576,\n",
              " 0.5897520167314012,\n",
              " 0.6078876605915744,\n",
              " 0.5937556020316701,\n",
              " 0.6059755004481626,\n",
              " 0.6191216014341201,\n",
              " 0.6282939946220496,\n",
              " 0.6375858978189424,\n",
              " 0.6566776217508214,\n",
              " 0.6712578428443381,\n",
              " 0.6605019420376457,\n",
              " 0.6492680011951,\n",
              " 0.6549148491186136,\n",
              " 0.6494472662085449,\n",
              " 0.6711084553331339,\n",
              " 0.6656707499253061,\n",
              " 0.6838661487899611,\n",
              " 0.6767553032566478,\n",
              " 0.6828503137137734,\n",
              " 0.676396773229758,\n",
              " 0.6805198685389902,\n",
              " 0.6809381535703614,\n",
              " 0.6800119510008962,\n",
              " 0.691694054377054,\n",
              " 0.696145802210935,\n",
              " 0.7014639976097998,\n",
              " 0.6930982969823722,\n",
              " 0.7205258440394382,\n",
              " 0.7263818344786375,\n",
              " 0.7578428443382133,\n",
              " 0.7842844338213324,\n",
              " 0.7336719450253957,\n",
              " 0.7423364206752316,\n",
              " 0.7548550941141321,\n",
              " 0.7820137436510306,\n",
              " 0.780549746041231,\n",
              " 0.7809680310726024,\n",
              " 0.7749626531221991,\n",
              " 0.8023005676725425,\n",
              " 0.8251867343890049,\n",
              " 0.8058559904391993,\n",
              " 0.8201374365103076,\n",
              " 0.7866447564983567,\n",
              " 0.810994920824619,\n",
              " 0.8200179265013445,\n",
              " 0.8179563788467283,\n",
              " 0.8179563788467283,\n",
              " 0.84705706602928,\n",
              " 0.8435912757693456,\n",
              " 0.8695249477143709,\n",
              " 0.8744248580818643,\n",
              " 0.8764266507319989,\n",
              " 0.871138332835375,\n",
              " 0.8900209142515685,\n",
              " 0.8979982073498654,\n",
              " 0.8836271287720345,\n",
              " 0.8812966835972513,\n",
              " 0.9055572154167912,\n",
              " 0.8893337317000298,\n",
              " 0.8925903794442784,\n",
              " 0.8396773229757992,\n",
              " 0.8369285927696444,\n",
              " 0.8631610397370779,\n",
              " 0.8445473558410517,\n",
              " 0.8659097699432328,\n",
              " 0.8796534209740066,\n",
              " 1.0]"
            ]
          },
          "metadata": {
            "tags": []
          },
          "execution_count": 73
        }
      ]
    },
    {
      "cell_type": "code",
      "metadata": {
        "id": "X0rmhxjOk4QJ",
        "colab_type": "code",
        "colab": {
          "base_uri": "https://localhost:8080/",
          "height": 1000
        },
        "outputId": "617b4662-21f7-40a8-c262-b16eda95446c"
      },
      "source": [
        "\n",
        "# Prediction for next 7 days\n",
        "from numpy import array\n",
        "output=[]\n",
        "n_steps=100\n",
        "i=0\n",
        "while(i<7): ##Running the loop for 7 times\n",
        "    \n",
        "    if(len(forecast_input)>100): ##System goes inide this block only after the second iteration since lenght of forecast_input list will go \n",
        "    ##above 100 only after 2nd iteration\n",
        "        x_input=np.array(forecast_input[1:])#to shift the position 1 step to right such that subsequent 100 records are considered\n",
        "        print(\"{} day input {}\".format(i,x_input))\n",
        "        x_input=x_input.reshape(1,-1)##Remembe to reshape for LSTM to predict\n",
        "        x_input = x_input.reshape((1, n_steps, 1))\n",
        "        yhat = model.predict(x_input, verbose=0)\n",
        "        print(\"{} day output {}\".format(i,yhat))\n",
        "        forecast_input.extend(yhat[0].tolist())#appending the forecastinput with predicted value such that on next iteration 2:101 are considered for prediction\n",
        "        forecast_input=forecast_input[1:]\n",
        "        output.extend(yhat.tolist())\n",
        "        i+=1\n",
        "    else:    ##Systems goes inside this block during the first iteration since length of forecast_input is not greater than 100\n",
        "        x_input = predict_input.reshape((1, n_steps,1)) ##Remembe to reshape for LSTM to predict\n",
        "        yhat = model.predict(x_input, verbose=0)\n",
        "        print(yhat[0])\n",
        "        forecast_input.extend(yhat[0].tolist())#appending the forecastinput with predicted value such that on next iteration 2:101 are considered for prediction\n",
        "        print(len(forecast_input))\n",
        "        output.extend(yhat.tolist())##appending the output list with newly predicted values\n",
        "        i+=1\n",
        "print(output)"
      ],
      "execution_count": 74,
      "outputs": [
        {
          "output_type": "stream",
          "text": [
            "[0.7791228]\n",
            "101\n",
            "1 day input [0.47173588 0.56059157 0.45374963 0.48556917 0.46707499 0.46142814\n",
            " 0.41499851 0.40044816 0.46770242 0.46363908 0.50224081 0.47027189\n",
            " 0.49139528 0.48984165 0.44986555 0.46187631 0.45135943 0.51428145\n",
            " 0.50519869 0.52503735 0.53077383 0.54648939 0.58772035 0.57989244\n",
            " 0.58664476 0.57502241 0.55748431 0.53190917 0.55500448 0.55180759\n",
            " 0.57553033 0.57612788 0.5624141  0.58975202 0.60788766 0.5937556\n",
            " 0.6059755  0.6191216  0.62829399 0.6375859  0.65667762 0.67125784\n",
            " 0.66050194 0.649268   0.65491485 0.64944727 0.67110846 0.66567075\n",
            " 0.68386615 0.6767553  0.68285031 0.67639677 0.68051987 0.68093815\n",
            " 0.68001195 0.69169405 0.6961458  0.701464   0.6930983  0.72052584\n",
            " 0.72638183 0.75784284 0.78428443 0.73367195 0.74233642 0.75485509\n",
            " 0.78201374 0.78054975 0.78096803 0.77496265 0.80230057 0.82518673\n",
            " 0.80585599 0.82013744 0.78664476 0.81099492 0.82001793 0.81795638\n",
            " 0.81795638 0.84705707 0.84359128 0.86952495 0.87442486 0.87642665\n",
            " 0.87113833 0.89002091 0.89799821 0.88362713 0.88129668 0.90555722\n",
            " 0.88933373 0.89259038 0.83967732 0.83692859 0.86316104 0.84454736\n",
            " 0.86590977 0.87965342 1.         0.77912283]\n",
            "1 day output [[0.7800538]]\n",
            "2 day input [0.56059157 0.45374963 0.48556917 0.46707499 0.46142814 0.41499851\n",
            " 0.40044816 0.46770242 0.46363908 0.50224081 0.47027189 0.49139528\n",
            " 0.48984165 0.44986555 0.46187631 0.45135943 0.51428145 0.50519869\n",
            " 0.52503735 0.53077383 0.54648939 0.58772035 0.57989244 0.58664476\n",
            " 0.57502241 0.55748431 0.53190917 0.55500448 0.55180759 0.57553033\n",
            " 0.57612788 0.5624141  0.58975202 0.60788766 0.5937556  0.6059755\n",
            " 0.6191216  0.62829399 0.6375859  0.65667762 0.67125784 0.66050194\n",
            " 0.649268   0.65491485 0.64944727 0.67110846 0.66567075 0.68386615\n",
            " 0.6767553  0.68285031 0.67639677 0.68051987 0.68093815 0.68001195\n",
            " 0.69169405 0.6961458  0.701464   0.6930983  0.72052584 0.72638183\n",
            " 0.75784284 0.78428443 0.73367195 0.74233642 0.75485509 0.78201374\n",
            " 0.78054975 0.78096803 0.77496265 0.80230057 0.82518673 0.80585599\n",
            " 0.82013744 0.78664476 0.81099492 0.82001793 0.81795638 0.81795638\n",
            " 0.84705707 0.84359128 0.86952495 0.87442486 0.87642665 0.87113833\n",
            " 0.89002091 0.89799821 0.88362713 0.88129668 0.90555722 0.88933373\n",
            " 0.89259038 0.83967732 0.83692859 0.86316104 0.84454736 0.86590977\n",
            " 0.87965342 1.         0.77912283 0.78005379]\n",
            "2 day output [[0.7538408]]\n",
            "3 day input [0.45374963 0.48556917 0.46707499 0.46142814 0.41499851 0.40044816\n",
            " 0.46770242 0.46363908 0.50224081 0.47027189 0.49139528 0.48984165\n",
            " 0.44986555 0.46187631 0.45135943 0.51428145 0.50519869 0.52503735\n",
            " 0.53077383 0.54648939 0.58772035 0.57989244 0.58664476 0.57502241\n",
            " 0.55748431 0.53190917 0.55500448 0.55180759 0.57553033 0.57612788\n",
            " 0.5624141  0.58975202 0.60788766 0.5937556  0.6059755  0.6191216\n",
            " 0.62829399 0.6375859  0.65667762 0.67125784 0.66050194 0.649268\n",
            " 0.65491485 0.64944727 0.67110846 0.66567075 0.68386615 0.6767553\n",
            " 0.68285031 0.67639677 0.68051987 0.68093815 0.68001195 0.69169405\n",
            " 0.6961458  0.701464   0.6930983  0.72052584 0.72638183 0.75784284\n",
            " 0.78428443 0.73367195 0.74233642 0.75485509 0.78201374 0.78054975\n",
            " 0.78096803 0.77496265 0.80230057 0.82518673 0.80585599 0.82013744\n",
            " 0.78664476 0.81099492 0.82001793 0.81795638 0.81795638 0.84705707\n",
            " 0.84359128 0.86952495 0.87442486 0.87642665 0.87113833 0.89002091\n",
            " 0.89799821 0.88362713 0.88129668 0.90555722 0.88933373 0.89259038\n",
            " 0.83967732 0.83692859 0.86316104 0.84454736 0.86590977 0.87965342\n",
            " 1.         0.77912283 0.78005379 0.7538408 ]\n",
            "3 day output [[0.7133747]]\n",
            "4 day input [0.48556917 0.46707499 0.46142814 0.41499851 0.40044816 0.46770242\n",
            " 0.46363908 0.50224081 0.47027189 0.49139528 0.48984165 0.44986555\n",
            " 0.46187631 0.45135943 0.51428145 0.50519869 0.52503735 0.53077383\n",
            " 0.54648939 0.58772035 0.57989244 0.58664476 0.57502241 0.55748431\n",
            " 0.53190917 0.55500448 0.55180759 0.57553033 0.57612788 0.5624141\n",
            " 0.58975202 0.60788766 0.5937556  0.6059755  0.6191216  0.62829399\n",
            " 0.6375859  0.65667762 0.67125784 0.66050194 0.649268   0.65491485\n",
            " 0.64944727 0.67110846 0.66567075 0.68386615 0.6767553  0.68285031\n",
            " 0.67639677 0.68051987 0.68093815 0.68001195 0.69169405 0.6961458\n",
            " 0.701464   0.6930983  0.72052584 0.72638183 0.75784284 0.78428443\n",
            " 0.73367195 0.74233642 0.75485509 0.78201374 0.78054975 0.78096803\n",
            " 0.77496265 0.80230057 0.82518673 0.80585599 0.82013744 0.78664476\n",
            " 0.81099492 0.82001793 0.81795638 0.81795638 0.84705707 0.84359128\n",
            " 0.86952495 0.87442486 0.87642665 0.87113833 0.89002091 0.89799821\n",
            " 0.88362713 0.88129668 0.90555722 0.88933373 0.89259038 0.83967732\n",
            " 0.83692859 0.86316104 0.84454736 0.86590977 0.87965342 1.\n",
            " 0.77912283 0.78005379 0.7538408  0.71337467]\n",
            "4 day output [[0.66752625]]\n",
            "5 day input [0.46707499 0.46142814 0.41499851 0.40044816 0.46770242 0.46363908\n",
            " 0.50224081 0.47027189 0.49139528 0.48984165 0.44986555 0.46187631\n",
            " 0.45135943 0.51428145 0.50519869 0.52503735 0.53077383 0.54648939\n",
            " 0.58772035 0.57989244 0.58664476 0.57502241 0.55748431 0.53190917\n",
            " 0.55500448 0.55180759 0.57553033 0.57612788 0.5624141  0.58975202\n",
            " 0.60788766 0.5937556  0.6059755  0.6191216  0.62829399 0.6375859\n",
            " 0.65667762 0.67125784 0.66050194 0.649268   0.65491485 0.64944727\n",
            " 0.67110846 0.66567075 0.68386615 0.6767553  0.68285031 0.67639677\n",
            " 0.68051987 0.68093815 0.68001195 0.69169405 0.6961458  0.701464\n",
            " 0.6930983  0.72052584 0.72638183 0.75784284 0.78428443 0.73367195\n",
            " 0.74233642 0.75485509 0.78201374 0.78054975 0.78096803 0.77496265\n",
            " 0.80230057 0.82518673 0.80585599 0.82013744 0.78664476 0.81099492\n",
            " 0.82001793 0.81795638 0.81795638 0.84705707 0.84359128 0.86952495\n",
            " 0.87442486 0.87642665 0.87113833 0.89002091 0.89799821 0.88362713\n",
            " 0.88129668 0.90555722 0.88933373 0.89259038 0.83967732 0.83692859\n",
            " 0.86316104 0.84454736 0.86590977 0.87965342 1.         0.77912283\n",
            " 0.78005379 0.7538408  0.71337467 0.66752625]\n",
            "5 day output [[0.6209507]]\n",
            "6 day input [0.46142814 0.41499851 0.40044816 0.46770242 0.46363908 0.50224081\n",
            " 0.47027189 0.49139528 0.48984165 0.44986555 0.46187631 0.45135943\n",
            " 0.51428145 0.50519869 0.52503735 0.53077383 0.54648939 0.58772035\n",
            " 0.57989244 0.58664476 0.57502241 0.55748431 0.53190917 0.55500448\n",
            " 0.55180759 0.57553033 0.57612788 0.5624141  0.58975202 0.60788766\n",
            " 0.5937556  0.6059755  0.6191216  0.62829399 0.6375859  0.65667762\n",
            " 0.67125784 0.66050194 0.649268   0.65491485 0.64944727 0.67110846\n",
            " 0.66567075 0.68386615 0.6767553  0.68285031 0.67639677 0.68051987\n",
            " 0.68093815 0.68001195 0.69169405 0.6961458  0.701464   0.6930983\n",
            " 0.72052584 0.72638183 0.75784284 0.78428443 0.73367195 0.74233642\n",
            " 0.75485509 0.78201374 0.78054975 0.78096803 0.77496265 0.80230057\n",
            " 0.82518673 0.80585599 0.82013744 0.78664476 0.81099492 0.82001793\n",
            " 0.81795638 0.81795638 0.84705707 0.84359128 0.86952495 0.87442486\n",
            " 0.87642665 0.87113833 0.89002091 0.89799821 0.88362713 0.88129668\n",
            " 0.90555722 0.88933373 0.89259038 0.83967732 0.83692859 0.86316104\n",
            " 0.84454736 0.86590977 0.87965342 1.         0.77912283 0.78005379\n",
            " 0.7538408  0.71337467 0.66752625 0.6209507 ]\n",
            "6 day output [[0.5758125]]\n",
            "[[0.7791228294372559], [0.7800537943840027], [0.7538408041000366], [0.713374674320221], [0.6675262451171875], [0.6209506988525391], [0.5758125185966492]]\n"
          ],
          "name": "stdout"
        }
      ]
    },
    {
      "cell_type": "code",
      "metadata": {
        "id": "EIQto7OBn29n",
        "colab_type": "code",
        "colab": {
          "base_uri": "https://localhost:8080/",
          "height": 136
        },
        "outputId": "afbacd15-4e33-47dd-f20b-aee49f8df21f"
      },
      "source": [
        "day_new=np.arange(1,101)\n",
        "day_pred=np.arange(101,108)\n",
        "len(df1)\n",
        "scaler.inverse_transform(output)"
      ],
      "execution_count": 80,
      "outputs": [
        {
          "output_type": "execute_result",
          "data": {
            "text/plain": [
              "array([[351.11241101],\n",
              "       [351.42400498],\n",
              "       [342.65051713],\n",
              "       [329.10650349],\n",
              "       [313.76103424],\n",
              "       [298.17219891],\n",
              "       [283.06444997]])"
            ]
          },
          "metadata": {
            "tags": []
          },
          "execution_count": 80
        }
      ]
    },
    {
      "cell_type": "code",
      "metadata": {
        "id": "2ehNY7vqn6p9",
        "colab_type": "code",
        "colab": {
          "base_uri": "https://localhost:8080/",
          "height": 282
        },
        "outputId": "1765c53f-7364-48ae-f5e4-a0b29eda85ed"
      },
      "source": [
        "plt.plot(day_new,scaler.inverse_transform(df1[1157:]),label='Actual')\n",
        "plt.plot(day_pred,scaler.inverse_transform(output),label='Forecasted')\n",
        "plt.legend(framealpha=1,frameon=True)"
      ],
      "execution_count": 83,
      "outputs": [
        {
          "output_type": "execute_result",
          "data": {
            "text/plain": [
              "<matplotlib.legend.Legend at 0x7fbad8e52c50>"
            ]
          },
          "metadata": {
            "tags": []
          },
          "execution_count": 83
        },
        {
          "output_type": "display_data",
          "data": {
            "image/png": "[encoded data removed]",
            "text/plain": [
              "<Figure size 432x288 with 1 Axes>"
            ]
          },
          "metadata": {
            "tags": [],
            "needs_background": "light"
          }
        }
      ]
    },
    {
      "cell_type": "code",
      "metadata": {
        "id": "nLMIWfHspmWH",
        "colab_type": "code",
        "colab": {
          "base_uri": "https://localhost:8080/",
          "height": 282
        },
        "outputId": "eb65335d-ec8d-4cbe-91cb-80e2cc510cf1"
      },
      "source": [
        "df3=df1.tolist()\n",
        "df3.extend(output)\n",
        "df3=scaler.inverse_transform(df3).tolist()\n",
        "plt.plot(df3)"
      ],
      "execution_count": 79,
      "outputs": [
        {
          "output_type": "execute_result",
          "data": {
            "text/plain": [
              "[<matplotlib.lines.Line2D at 0x7fbad91cf710>]"
            ]
          },
          "metadata": {
            "tags": []
          },
          "execution_count": 79
        },
        {
          "output_type": "display_data",
          "data": {
            "image/png": "[encoded data removed]",
            "text/plain": [
              "<Figure size 432x288 with 1 Axes>"
            ]
          },
          "metadata": {
            "tags": [],
            "needs_background": "light"
          }
        }
      ]
    }
  ]
}
